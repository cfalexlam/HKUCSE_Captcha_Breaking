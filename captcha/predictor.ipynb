{
 "cells": [
  {
   "cell_type": "code",
   "execution_count": 8,
   "metadata": {},
   "outputs": [],
   "source": [
    "import csv\n",
    "from cv2 import cv2\n",
    "import numpy as np\n",
    "import os\n",
    "import pandas as pd\n",
    "from sklearn.model_selection import train_test_split\n",
    "from sklearn.preprocessing import OneHotEncoder\n",
    "import tensorflow as tf\n",
    "import matplotlib.pyplot as plt\n",
    "\n",
    "SOURCEPATH = 'data_letter/'\n",
    "NUMBERS = '345678'\n",
    "LETTERS = 'bcdefghkmnprwxy'"
   ]
  },
  {
   "cell_type": "code",
   "execution_count": 9,
   "metadata": {},
   "outputs": [
    {
     "name": "stdout",
     "output_type": "stream",
     "text": [
      "TensorFlow version: 2.4.1\n",
      "Eager execution: True\n"
     ]
    }
   ],
   "source": [
    "print(\"TensorFlow version: {}\".format(tf.__version__))\n",
    "print(\"Eager execution: {}\".format(tf.executing_eagerly()))"
   ]
  },
  {
   "cell_type": "code",
   "execution_count": 10,
   "metadata": {},
   "outputs": [],
   "source": [
    "physical_devices = tf.config.list_physical_devices('GPU')\n",
    "tf.config.experimental.set_memory_growth(physical_devices[0], True)"
   ]
  },
  {
   "cell_type": "code",
   "execution_count": 11,
   "metadata": {},
   "outputs": [],
   "source": [
    "img_list = []\n",
    "label_list = []\n",
    "for directory in os.listdir(SOURCEPATH):\n",
    "    for file in os.listdir(SOURCEPATH + directory + '/'):\n",
    "        # read image\n",
    "        img = cv2.imread(SOURCEPATH + directory + '/' + file, 0)\n",
    "\n",
    "        # resize to 50x30 px\n",
    "        width = 30\n",
    "        height = img.shape[0] # keep original height\n",
    "        dim = (width, height)\n",
    "        img = cv2.resize(img, dim, interpolation = cv2.INTER_AREA)\n",
    "\n",
    "        # normalize to 0-1\n",
    "        img = img/255\n",
    "\n",
    "        # convert to float32\n",
    "        img = img.astype(np.float32)\n",
    "\n",
    "        img_list.append(img)\n",
    "        label_list.append(directory)\n",
    "\n",
    "img_list = np.asarray(img_list)\n",
    "img_list = np.expand_dims(img_list, axis=3)\n",
    "\n",
    "label_list_onehot = pd.get_dummies(label_list, prefix='', prefix_sep='')\n",
    "\n",
    "labels = label_list_onehot.columns"
   ]
  },
  {
   "cell_type": "code",
   "execution_count": 12,
   "metadata": {},
   "outputs": [
    {
     "data": {
      "image/png": "[encoded data removed]",
      "text/plain": [
       "<Figure size 1080x864 with 5 Axes>"
      ]
     },
     "metadata": {
      "needs_background": "light"
     },
     "output_type": "display_data"
    }
   ],
   "source": [
    "fig = plt.figure(figsize=(15, 12))\n",
    "for i in range(5):\n",
    "    fig.add_subplot(1, 5, i+1)\n",
    "    plt.imshow(img_list[i*300], cmap='gray', vmin=0, vmax=1)\n",
    "plt.show()"
   ]
  },
  {
   "cell_type": "code",
   "execution_count": 13,
   "metadata": {},
   "outputs": [],
   "source": [
    "# set parameters for CNN\n",
    "IMAGE_SIZE = (50, 30)\n",
    "# BATCH_SIZE = 32\n",
    "# steps_per_epoch = np.floor(len(label_list)/BATCH_SIZE)\n",
    "\n",
    "# split into train, test set with stratified split\n",
    "X_train, X_test, y_train, y_test = train_test_split(img_list, label_list_onehot, stratify=label_list, test_size=0.2)\n",
    "X_val = X_test[:len(X_test)//2]\n",
    "X_test = X_test[len(X_test)//2:]\n",
    "y_val = y_test[:len(y_test)//2]\n",
    "y_test = y_test[len(y_test)//2:]"
   ]
  },
  {
   "cell_type": "code",
   "execution_count": 14,
   "metadata": {},
   "outputs": [
    {
     "data": {
      "text/plain": [
       "TensorShape([None, 21])"
      ]
     },
     "execution_count": 14,
     "metadata": {},
     "output_type": "execute_result"
    }
   ],
   "source": [
    "# define CNN model\n",
    "model = tf.keras.Sequential([\n",
    "    tf.keras.layers.Conv2D(\n",
    "    128, 3, padding='same', activation='relu', input_shape=(50, 30, 1)),\n",
    "    tf.keras.layers.MaxPooling2D(2),\n",
    "    tf.keras.layers.Dropout(rate=0.7),\n",
    "   \n",
    "    tf.keras.layers.Conv2D(\n",
    "    256, 3, padding='same', activation='relu'),\n",
    "    tf.keras.layers.MaxPooling2D(2),\n",
    "   \n",
    "    tf.keras.layers.Conv2D(\n",
    "    512, 3, padding='same', activation='relu'),\n",
    "    tf.keras.layers.MaxPooling2D(2),\n",
    "    \n",
    "    tf.keras.layers.Conv2D(\n",
    "    1024, 3, padding='same', activation='relu'),\n",
    "    tf.keras.layers.MaxPooling2D(2),\n",
    "    \n",
    "    tf.keras.layers.GlobalAveragePooling2D(),\n",
    "    \n",
    "    tf.keras.layers.Dense(1024, activation='relu'),\n",
    "    tf.keras.layers.Dense(len(labels), activation=None)])\n",
    "\n",
    "model.compute_output_shape(input_shape=(None, 50, 30, 1))"
   ]
  },
  {
   "cell_type": "code",
   "execution_count": 15,
   "metadata": {},
   "outputs": [
    {
     "name": "stdout",
     "output_type": "stream",
     "text": [
      "Model: \"sequential\"\n",
      "_________________________________________________________________\n",
      "Layer (type)                 Output Shape              Param #   \n",
      "=================================================================\n",
      "conv2d (Conv2D)              (None, 50, 30, 128)       1280      \n",
      "_________________________________________________________________\n",
      "max_pooling2d (MaxPooling2D) (None, 25, 15, 128)       0         \n",
      "_________________________________________________________________\n",
      "dropout (Dropout)            (None, 25, 15, 128)       0         \n",
      "_________________________________________________________________\n",
      "conv2d_1 (Conv2D)            (None, 25, 15, 256)       295168    \n",
      "_________________________________________________________________\n",
      "max_pooling2d_1 (MaxPooling2 (None, 12, 7, 256)        0         \n",
      "_________________________________________________________________\n",
      "conv2d_2 (Conv2D)            (None, 12, 7, 512)        1180160   \n",
      "_________________________________________________________________\n",
      "max_pooling2d_2 (MaxPooling2 (None, 6, 3, 512)         0         \n",
      "_________________________________________________________________\n",
      "conv2d_3 (Conv2D)            (None, 6, 3, 1024)        4719616   \n",
      "_________________________________________________________________\n",
      "max_pooling2d_3 (MaxPooling2 (None, 3, 1, 1024)        0         \n",
      "_________________________________________________________________\n",
      "global_average_pooling2d (Gl (None, 1024)              0         \n",
      "_________________________________________________________________\n",
      "dense (Dense)                (None, 1024)              1049600   \n",
      "_________________________________________________________________\n",
      "dense_1 (Dense)              (None, 21)                21525     \n",
      "=================================================================\n",
      "Total params: 7,267,349\n",
      "Trainable params: 7,267,349\n",
      "Non-trainable params: 0\n",
      "_________________________________________________________________\n"
     ]
    }
   ],
   "source": [
    "tf.random.set_seed(3035605017)\n",
    "model.build(input_shape=(None, 50, 30, 1))\n",
    "model.summary()"
   ]
  },
  {
   "cell_type": "code",
   "execution_count": 16,
   "metadata": {},
   "outputs": [],
   "source": [
    "model.compile(optimizer=tf.keras.optimizers.Adam(), loss=tf.keras.losses.CategoricalCrossentropy(from_logits=True), metrics=['accuracy'])"
   ]
  },
  {
   "cell_type": "code",
   "execution_count": 17,
   "metadata": {
    "scrolled": false
   },
   "outputs": [
    {
     "name": "stdout",
     "output_type": "stream",
     "text": [
      "Epoch 1/50\n",
      "45/45 [==============================] - 7s 44ms/step - loss: 2.8019 - accuracy: 0.1421 - val_loss: 1.4179 - val_accuracy: 0.6145\n",
      "Epoch 2/50\n",
      "45/45 [==============================] - 1s 12ms/step - loss: 0.9589 - accuracy: 0.7063 - val_loss: 0.3401 - val_accuracy: 0.9330\n",
      "Epoch 3/50\n",
      "45/45 [==============================] - 1s 12ms/step - loss: 0.2948 - accuracy: 0.9165 - val_loss: 0.1992 - val_accuracy: 0.9385\n",
      "Epoch 4/50\n",
      "45/45 [==============================] - 1s 12ms/step - loss: 0.1833 - accuracy: 0.9374 - val_loss: 0.2150 - val_accuracy: 0.9218\n",
      "Epoch 5/50\n",
      "45/45 [==============================] - 1s 12ms/step - loss: 0.1668 - accuracy: 0.9479 - val_loss: 0.1612 - val_accuracy: 0.9497\n",
      "Epoch 6/50\n",
      "45/45 [==============================] - 1s 12ms/step - loss: 0.0811 - accuracy: 0.9746 - val_loss: 0.1339 - val_accuracy: 0.9665\n",
      "Epoch 7/50\n",
      "45/45 [==============================] - 1s 12ms/step - loss: 0.0962 - accuracy: 0.9740 - val_loss: 0.1667 - val_accuracy: 0.9441\n",
      "Epoch 8/50\n",
      "45/45 [==============================] - 1s 12ms/step - loss: 0.0549 - accuracy: 0.9842 - val_loss: 0.1216 - val_accuracy: 0.9665\n",
      "Epoch 9/50\n",
      "45/45 [==============================] - 1s 12ms/step - loss: 0.0270 - accuracy: 0.9923 - val_loss: 0.1350 - val_accuracy: 0.9665\n",
      "Epoch 10/50\n",
      "45/45 [==============================] - 1s 12ms/step - loss: 0.0430 - accuracy: 0.9889 - val_loss: 0.1319 - val_accuracy: 0.9665\n",
      "Epoch 11/50\n",
      "45/45 [==============================] - 1s 12ms/step - loss: 0.0201 - accuracy: 0.9946 - val_loss: 0.1901 - val_accuracy: 0.9553\n",
      "Epoch 12/50\n",
      "45/45 [==============================] - 1s 13ms/step - loss: 0.0322 - accuracy: 0.9935 - val_loss: 0.1050 - val_accuracy: 0.9721\n",
      "Epoch 13/50\n",
      "45/45 [==============================] - 1s 12ms/step - loss: 0.0169 - accuracy: 0.9971 - val_loss: 0.0940 - val_accuracy: 0.9721\n",
      "Epoch 14/50\n",
      "45/45 [==============================] - 1s 12ms/step - loss: 0.0079 - accuracy: 0.9962 - val_loss: 0.1326 - val_accuracy: 0.9665\n",
      "Epoch 15/50\n",
      "45/45 [==============================] - 1s 12ms/step - loss: 0.0061 - accuracy: 0.9999 - val_loss: 0.0958 - val_accuracy: 0.9721\n",
      "Epoch 16/50\n",
      "45/45 [==============================] - 1s 12ms/step - loss: 0.0115 - accuracy: 0.9971 - val_loss: 0.0930 - val_accuracy: 0.9721\n",
      "Epoch 17/50\n",
      "45/45 [==============================] - 1s 13ms/step - loss: 0.0013 - accuracy: 0.9994 - val_loss: 0.0915 - val_accuracy: 0.9832\n",
      "Epoch 18/50\n",
      "45/45 [==============================] - 1s 12ms/step - loss: 4.4338e-04 - accuracy: 1.0000 - val_loss: 0.0954 - val_accuracy: 0.9832\n",
      "Epoch 19/50\n",
      "45/45 [==============================] - 1s 12ms/step - loss: 3.3950e-04 - accuracy: 1.0000 - val_loss: 0.1110 - val_accuracy: 0.9832\n",
      "Epoch 20/50\n",
      "45/45 [==============================] - 1s 13ms/step - loss: 1.0904e-04 - accuracy: 1.0000 - val_loss: 0.1079 - val_accuracy: 0.9832\n",
      "Epoch 21/50\n",
      "45/45 [==============================] - 1s 12ms/step - loss: 6.8265e-05 - accuracy: 1.0000 - val_loss: 0.1067 - val_accuracy: 0.9832\n",
      "Epoch 22/50\n",
      "45/45 [==============================] - 1s 12ms/step - loss: 7.1605e-05 - accuracy: 1.0000 - val_loss: 0.1064 - val_accuracy: 0.9832\n",
      "Epoch 23/50\n",
      "45/45 [==============================] - 1s 12ms/step - loss: 5.3483e-05 - accuracy: 1.0000 - val_loss: 0.1055 - val_accuracy: 0.9832\n",
      "Epoch 24/50\n",
      "45/45 [==============================] - 1s 12ms/step - loss: 4.5216e-05 - accuracy: 1.0000 - val_loss: 0.1069 - val_accuracy: 0.9832\n",
      "Epoch 25/50\n",
      "45/45 [==============================] - 1s 12ms/step - loss: 0.0167 - accuracy: 0.9947 - val_loss: 0.3150 - val_accuracy: 0.9441\n",
      "Epoch 26/50\n",
      "45/45 [==============================] - 1s 12ms/step - loss: 0.1529 - accuracy: 0.9670 - val_loss: 0.1524 - val_accuracy: 0.9721\n",
      "Epoch 27/50\n",
      "45/45 [==============================] - 1s 12ms/step - loss: 0.0616 - accuracy: 0.9843 - val_loss: 0.1418 - val_accuracy: 0.9721\n",
      "Epoch 28/50\n",
      "45/45 [==============================] - 1s 13ms/step - loss: 0.0340 - accuracy: 0.9910 - val_loss: 0.1482 - val_accuracy: 0.9721\n",
      "Epoch 29/50\n",
      "45/45 [==============================] - 1s 12ms/step - loss: 0.0272 - accuracy: 0.9946 - val_loss: 0.1542 - val_accuracy: 0.9721\n",
      "Epoch 30/50\n",
      "45/45 [==============================] - 1s 12ms/step - loss: 0.0099 - accuracy: 0.9964 - val_loss: 0.1263 - val_accuracy: 0.9777\n",
      "Epoch 31/50\n",
      "45/45 [==============================] - 1s 12ms/step - loss: 0.0166 - accuracy: 0.9946 - val_loss: 0.1325 - val_accuracy: 0.9721\n",
      "Epoch 32/50\n",
      "45/45 [==============================] - 1s 12ms/step - loss: 0.0332 - accuracy: 0.9904 - val_loss: 0.0963 - val_accuracy: 0.9832\n",
      "Epoch 33/50\n",
      "45/45 [==============================] - 1s 12ms/step - loss: 4.0700e-04 - accuracy: 1.0000 - val_loss: 0.1010 - val_accuracy: 0.9832\n",
      "Epoch 34/50\n",
      "45/45 [==============================] - 1s 12ms/step - loss: 7.1111e-04 - accuracy: 1.0000 - val_loss: 0.1034 - val_accuracy: 0.9888\n",
      "Epoch 35/50\n",
      "45/45 [==============================] - 1s 12ms/step - loss: 3.4719e-04 - accuracy: 1.0000 - val_loss: 0.1082 - val_accuracy: 0.9832\n",
      "Epoch 36/50\n",
      "45/45 [==============================] - 1s 12ms/step - loss: 9.5110e-04 - accuracy: 0.9997 - val_loss: 0.0957 - val_accuracy: 0.9832\n",
      "Epoch 37/50\n",
      "45/45 [==============================] - 1s 12ms/step - loss: 0.0108 - accuracy: 0.9984 - val_loss: 0.1180 - val_accuracy: 0.9832\n",
      "Epoch 38/50\n",
      "45/45 [==============================] - 1s 12ms/step - loss: 0.0207 - accuracy: 0.9937 - val_loss: 0.0862 - val_accuracy: 0.9832\n",
      "Epoch 39/50\n",
      "45/45 [==============================] - 1s 13ms/step - loss: 7.2348e-04 - accuracy: 0.9999 - val_loss: 0.0934 - val_accuracy: 0.9832\n",
      "Epoch 40/50\n",
      "45/45 [==============================] - 1s 12ms/step - loss: 0.0069 - accuracy: 0.9988 - val_loss: 0.0823 - val_accuracy: 0.9888\n",
      "Epoch 41/50\n",
      "45/45 [==============================] - 1s 12ms/step - loss: 4.7034e-04 - accuracy: 1.0000 - val_loss: 0.0953 - val_accuracy: 0.9832\n",
      "Epoch 42/50\n",
      "45/45 [==============================] - 1s 12ms/step - loss: 0.0099 - accuracy: 0.9977 - val_loss: 0.1592 - val_accuracy: 0.9721\n",
      "Epoch 43/50\n",
      "45/45 [==============================] - 1s 13ms/step - loss: 0.0072 - accuracy: 0.9982 - val_loss: 0.2274 - val_accuracy: 0.9665\n",
      "Epoch 44/50\n",
      "45/45 [==============================] - 1s 12ms/step - loss: 0.0454 - accuracy: 0.9885 - val_loss: 0.2131 - val_accuracy: 0.9441\n",
      "Epoch 45/50\n",
      "45/45 [==============================] - 1s 12ms/step - loss: 0.0620 - accuracy: 0.9840 - val_loss: 0.1383 - val_accuracy: 0.9777\n",
      "Epoch 46/50\n",
      "45/45 [==============================] - 1s 12ms/step - loss: 0.0046 - accuracy: 0.9986 - val_loss: 0.1429 - val_accuracy: 0.9832\n",
      "Epoch 47/50\n",
      "45/45 [==============================] - 1s 12ms/step - loss: 7.8057e-05 - accuracy: 1.0000 - val_loss: 0.1275 - val_accuracy: 0.9888\n",
      "Epoch 48/50\n",
      "45/45 [==============================] - 1s 12ms/step - loss: 5.9387e-05 - accuracy: 1.0000 - val_loss: 0.1273 - val_accuracy: 0.9888\n",
      "Epoch 49/50\n",
      "45/45 [==============================] - 1s 13ms/step - loss: 4.4637e-05 - accuracy: 1.0000 - val_loss: 0.1319 - val_accuracy: 0.9888\n",
      "Epoch 50/50\n",
      "45/45 [==============================] - 1s 12ms/step - loss: 1.6635e-04 - accuracy: 1.0000 - val_loss: 0.1408 - val_accuracy: 0.9832\n"
     ]
    }
   ],
   "source": [
    "history = model.fit(x=X_train, y=y_train, validation_data=(X_val, y_val), epochs=50)"
   ]
  },
  {
   "cell_type": "code",
   "execution_count": 18,
   "metadata": {},
   "outputs": [
    {
     "data": {
      "image/png": "[encoded data removed]",
      "text/plain": [
       "<Figure size 864x288 with 2 Axes>"
      ]
     },
     "metadata": {
      "needs_background": "light"
     },
     "output_type": "display_data"
    }
   ],
   "source": [
    "hist = history.history\n",
    "x_arr = np.arange(len(hist['loss'])) + 1\n",
    "fig = plt.figure(figsize=(12, 4))\n",
    "ax = fig.add_subplot(1, 2, 1)\n",
    "ax.plot(x_arr, hist['loss'], '-o', label='Train loss')\n",
    "ax.plot(x_arr, hist['val_loss'], '--<', label='Validation loss')\n",
    "ax.legend(fontsize=15)\n",
    "ax.set_xlabel('Epoch', size=15)\n",
    "ax.set_ylabel('Loss', size=15)\n",
    "ax = fig.add_subplot(1, 2, 2)\n",
    "ax.plot(x_arr, hist['accuracy'], '-o', label='Train acc.')\n",
    "ax.plot(x_arr, hist['val_accuracy'], '--<', label='Validation acc.')\n",
    "ax.legend(fontsize=15)\n",
    "ax.set_xlabel('Epoch', size=15)\n",
    "ax.set_ylabel('Accuracy', size=15)\n",
    "plt.show()"
   ]
  },
  {
   "cell_type": "code",
   "execution_count": 19,
   "metadata": {},
   "outputs": [
    {
     "name": "stdout",
     "output_type": "stream",
     "text": [
      "6/6 [==============================] - 0s 33ms/step - loss: 0.1389 - accuracy: 0.9833\n",
      "Test Acc: 98.33%\n"
     ]
    }
   ],
   "source": [
    "test_results = model.evaluate(x=X_test, y=y_test,)\n",
    "print('Test Acc: {:.2f}%'.format(test_results[1]*100))"
   ]
  },
  {
   "cell_type": "code",
   "execution_count": 20,
   "metadata": {},
   "outputs": [],
   "source": [
    "pred_prob = model.predict(X_test)\n",
    "pred_labels = labels[np.argmax(pred_prob, axis=1)]\n",
    "\n",
    "test_labels = np.array(label_list)[y_test.index]"
   ]
  },
  {
   "cell_type": "code",
   "execution_count": 21,
   "metadata": {
    "collapsed": true
   },
   "outputs": [
    {
     "data": {
      "image/png": "[encoded data removed]",
      "text/plain": [
       "<Figure size 432x288 with 1 Axes>"
      ]
     },
     "metadata": {
      "needs_background": "light"
     },
     "output_type": "display_data"
    },
    {
     "name": "stdout",
     "output_type": "stream",
     "text": [
      "actual: n\n",
      "predicted: w\n"
     ]
    },
    {
     "data": {
      "image/png": "[encoded data removed]",
      "text/plain": [
       "<Figure size 432x288 with 1 Axes>"
      ]
     },
     "metadata": {
      "needs_background": "light"
     },
     "output_type": "display_data"
    },
    {
     "name": "stdout",
     "output_type": "stream",
     "text": [
      "actual: 4\n",
      "predicted: 7\n"
     ]
    },
    {
     "data": {
      "image/png": "[encoded data removed]",
      "text/plain": [
       "<Figure size 432x288 with 1 Axes>"
      ]
     },
     "metadata": {
      "needs_background": "light"
     },
     "output_type": "display_data"
    },
    {
     "name": "stdout",
     "output_type": "stream",
     "text": [
      "actual: e\n",
      "predicted: d\n"
     ]
    }
   ],
   "source": [
    "for i,x in enumerate(test_labels != pred_labels):\n",
    "    if x:\n",
    "        plt.imshow(X_test[i], cmap='gray', vmin=0, vmax=1)\n",
    "        plt.show()\n",
    "        print('actual:', test_labels[i])\n",
    "        print('predicted:', pred_labels[i])"
   ]
  },
  {
   "cell_type": "code",
   "execution_count": 22,
   "metadata": {
    "scrolled": true
   },
   "outputs": [
    {
     "name": "stdout",
     "output_type": "stream",
     "text": [
      "Epoch 1/20\n",
      "57/57 [==============================] - 1s 15ms/step - loss: 0.0488 - accuracy: 0.9933\n",
      "Epoch 2/20\n",
      "57/57 [==============================] - 1s 11ms/step - loss: 0.0213 - accuracy: 0.9944\n",
      "Epoch 3/20\n",
      "57/57 [==============================] - 1s 11ms/step - loss: 0.0153 - accuracy: 0.9955\n",
      "Epoch 4/20\n",
      "57/57 [==============================] - 1s 11ms/step - loss: 0.0146 - accuracy: 0.9967\n",
      "Epoch 5/20\n",
      "57/57 [==============================] - 1s 11ms/step - loss: 0.0124 - accuracy: 0.9972\n",
      "Epoch 6/20\n",
      "57/57 [==============================] - 1s 11ms/step - loss: 0.0024 - accuracy: 0.9989\n",
      "Epoch 7/20\n",
      "57/57 [==============================] - 1s 11ms/step - loss: 0.0059 - accuracy: 0.9972\n",
      "Epoch 8/20\n",
      "57/57 [==============================] - 1s 11ms/step - loss: 0.0345 - accuracy: 0.9944\n",
      "Epoch 9/20\n",
      "57/57 [==============================] - 1s 11ms/step - loss: 0.0139 - accuracy: 0.9967\n",
      "Epoch 10/20\n",
      "57/57 [==============================] - 1s 11ms/step - loss: 0.0019 - accuracy: 0.9994\n",
      "Epoch 11/20\n",
      "57/57 [==============================] - 1s 11ms/step - loss: 0.0032 - accuracy: 0.9989\n",
      "Epoch 12/20\n",
      "57/57 [==============================] - 1s 12ms/step - loss: 0.0555 - accuracy: 0.9861\n",
      "Epoch 13/20\n",
      "57/57 [==============================] - 1s 12ms/step - loss: 0.0349 - accuracy: 0.9905\n",
      "Epoch 14/20\n",
      "57/57 [==============================] - 1s 11ms/step - loss: 0.0193 - accuracy: 0.9961\n",
      "Epoch 15/20\n",
      "57/57 [==============================] - 1s 11ms/step - loss: 0.0022 - accuracy: 0.9994\n",
      "Epoch 16/20\n",
      "57/57 [==============================] - 1s 11ms/step - loss: 2.6612e-04 - accuracy: 1.0000\n",
      "Epoch 17/20\n",
      "57/57 [==============================] - 1s 11ms/step - loss: 7.2124e-05 - accuracy: 1.0000\n",
      "Epoch 18/20\n",
      "57/57 [==============================] - 1s 11ms/step - loss: 3.5775e-05 - accuracy: 1.0000\n",
      "Epoch 19/20\n",
      "57/57 [==============================] - 1s 11ms/step - loss: 2.0734e-05 - accuracy: 1.0000\n",
      "Epoch 20/20\n",
      "57/57 [==============================] - 1s 11ms/step - loss: 8.4400e-06 - accuracy: 1.0000\n"
     ]
    },
    {
     "data": {
      "text/plain": [
       "<tensorflow.python.keras.callbacks.History at 0x201f31ead30>"
      ]
     },
     "execution_count": 22,
     "metadata": {},
     "output_type": "execute_result"
    }
   ],
   "source": [
    "model.fit(x=img_list, y=label_list_onehot, epochs=20)"
   ]
  },
  {
   "cell_type": "code",
   "execution_count": 24,
   "metadata": {},
   "outputs": [
    {
     "name": "stdout",
     "output_type": "stream",
     "text": [
      "INFO:tensorflow:Assets written to: captcha_cnn\\assets\n"
     ]
    }
   ],
   "source": [
    "model.save('captcha_cnn')"
   ]
  }
 ],
 "metadata": {
  "kernelspec": {
   "display_name": "Python 3",
   "language": "python",
   "name": "python3"
  },
  "language_info": {
   "codemirror_mode": {
    "name": "ipython",
    "version": 3
   },
   "file_extension": ".py",
   "mimetype": "text/x-python",
   "name": "python",
   "nbconvert_exporter": "python",
   "pygments_lexer": "ipython3",
   "version": "3.8.5"
  }
 },
 "nbformat": 4,
 "nbformat_minor": 4
}
