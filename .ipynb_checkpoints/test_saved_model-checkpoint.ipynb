{
 "cells": [
  {
   "cell_type": "code",
   "execution_count": 1,
   "metadata": {},
   "outputs": [],
   "source": [
    "from cv2 import cv2\n",
    "import numpy as np\n",
    "import os\n",
    "import tensorflow as tf\n",
    "import matplotlib.pyplot as plt\n",
    "\n",
    "SOURCEPATH = 'data_letter/'"
   ]
  },
  {
   "cell_type": "code",
   "execution_count": 2,
   "metadata": {},
   "outputs": [],
   "source": [
    "def preprocess(img):\n",
    "    img_list = []\n",
    "    \n",
    "    # clip dark pixels to 0\n",
    "    img = np.where(img < 240, 0, img)\n",
    "    \n",
    "    # straighten italic letters\n",
    "    pts1 = np.float32([[11, 0],[135, 0],[0, 48],[124,48]])\n",
    "    pts2 = np.float32([[0,0],[135, 0],[0,48],[135,48]])\n",
    "    M = cv2.getPerspectiveTransform(pts1, pts2)\n",
    "    img = cv2.warpPerspective(img, M ,(200, 50))\n",
    "    \n",
    "    # only letters are left after transformation\n",
    "    # find boundary\n",
    "    left_bound = 0\n",
    "    right_bound = img.shape[1]\n",
    "\n",
    "    for i in range(200):\n",
    "        if img[:,i].max() > 150:\n",
    "            left_bound = i\n",
    "            break\n",
    "    \n",
    "    for i in range(200)[::-1]:\n",
    "        if img[:,i].max() > 150:\n",
    "            right_bound = i\n",
    "            break     \n",
    "            \n",
    "    # crop boundary\n",
    "    img = img[:, left_bound:right_bound+1]\n",
    "    \n",
    "    cols = [0]*7\n",
    "    cols[6] = img.shape[1]\n",
    "    \n",
    "    # take right 3 numbers with 20 px\n",
    "    for i in range(3):\n",
    "        cols[5-i] = img.shape[1] - (i+1)*20\n",
    "\n",
    "    # split remaining letters into 3 segments\n",
    "    for i in range(2):\n",
    "        cols[i+1] = (i+1)*((img.shape[1]-60)//3)\n",
    "\n",
    "    for i in range(6):\n",
    "        img_cropped = img[:, cols[i]:cols[i+1]]\n",
    "        \n",
    "        # resize to 50x30 px\n",
    "        width = 30\n",
    "        height = img_cropped.shape[0] # keep original height\n",
    "        dim = (width, height)\n",
    "        img_cropped = cv2.resize(img_cropped, dim, interpolation = cv2.INTER_AREA)\n",
    "        \n",
    "        # normalize to 0-1\n",
    "        img_cropped = img_cropped/255\n",
    "\n",
    "        # convert to float32\n",
    "        img_cropped = img_cropped.astype(np.float32)\n",
    "        \n",
    "        img_list.append(img_cropped)\n",
    "    \n",
    "    img_list = np.asarray(img_list)\n",
    "    img_list = np.expand_dims(img_list, axis=3)\n",
    "    \n",
    "    return img_list\n",
    "        \n",
    "def prediction(img):\n",
    "    NUMBERS = '345678'\n",
    "    LETTERS = 'bcdefghkmnprwxy'\n",
    "    labels = np.array(list(NUMBERS + LETTERS))\n",
    "    \n",
    "    img_list = preprocess(img)\n",
    "    pred_labels = labels[np.argmax(model.predict(img_list), axis=1)]\n",
    "    prediction = ''.join(pred_labels)\n",
    "    \n",
    "    return prediction"
   ]
  },
  {
   "cell_type": "code",
   "execution_count": 3,
   "metadata": {},
   "outputs": [],
   "source": [
    "physical_devices = tf.config.list_physical_devices('GPU')\n",
    "tf.config.experimental.set_memory_growth(physical_devices[0], True)\n",
    "\n",
    "model = tf.keras.models.load_model('captcha/captcha_cnn')"
   ]
  },
  {
   "cell_type": "code",
   "execution_count": 4,
   "metadata": {},
   "outputs": [
    {
     "data": {
      "image/png": "[encoded data removed]",
      "text/plain": [
       "<Figure size 432x288 with 1 Axes>"
      ]
     },
     "metadata": {
      "needs_background": "light"
     },
     "output_type": "display_data"
    }
   ],
   "source": [
    "# multiple images prediction\n",
    "for img_file in os.listdir():\n",
    "    if os.path.splitext(img_file)[1] in ['.jpg', '.png']:\n",
    "        img = cv2.imread(img_file, 0)\n",
    "        plt.title(prediction(img))\n",
    "        plt.imshow(img, cmap='gray', vmin=0, vmax=255)\n",
    "        plt.show()"
   ]
  }
 ],
 "metadata": {
  "kernelspec": {
   "display_name": "Python 3",
   "language": "python",
   "name": "python3"
  },
  "language_info": {
   "codemirror_mode": {
    "name": "ipython",
    "version": 3
   },
   "file_extension": ".py",
   "mimetype": "text/x-python",
   "name": "python",
   "nbconvert_exporter": "python",
   "pygments_lexer": "ipython3",
   "version": "3.8.5"
  }
 },
 "nbformat": 4,
 "nbformat_minor": 4
}
